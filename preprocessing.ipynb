{
 "cells": [
  {
   "cell_type": "code",
   "execution_count": 1,
   "metadata": {
    "collapsed": true
   },
   "outputs": [],
   "source": [
    "#!/usr/bin/env python3\n",
    "# -*- coding: utf-8 -*-\n",
    "\"\"\"\n",
    "Created on Fri Apr 27 16:28:35 2018\n",
    "@author: alexei, arndt\n",
    "\"\"\"\n",
    "\n",
    "import numpy as np\n",
    "import pandas as pd\n",
    "import sklearn.metrics as skm\n",
    "from os import chdir, path\n",
    "\n",
    "\n"
   ]
  },
  {
   "cell_type": "code",
   "execution_count": 2,
   "metadata": {
    "collapsed": true
   },
   "outputs": [],
   "source": [
    "df_test = pd.merge(pd.read_csv(\"hatespeech/test.csv\"),\n",
    "                   pd.read_csv(\"hatespeech/test_labels.csv\"),\n",
    "                   how=\"inner\",\n",
    "                   on=\"id\")\n",
    "\n"
   ]
  },
  {
   "cell_type": "code",
   "execution_count": 3,
   "metadata": {},
   "outputs": [],
   "source": [
    "df_train=pd.read_csv(\"hatespeech/train.csv\")\n",
    "\n"
   ]
  },
  {
   "cell_type": "code",
   "execution_count": 9,
   "metadata": {},
   "outputs": [
    {
     "ename": "ImportError",
     "evalue": "No module named skift",
     "output_type": "error",
     "traceback": [
      "\u001b[0;31m---------------------------------------------------------------------------\u001b[0m",
      "\u001b[0;31mImportError\u001b[0m                               Traceback (most recent call last)",
      "\u001b[0;32m<ipython-input-9-a7b9072a8762>\u001b[0m in \u001b[0;36m<module>\u001b[0;34m()\u001b[0m\n\u001b[1;32m     18\u001b[0m \u001b[0;31m# Single skift model\u001b[0m\u001b[0;34m\u001b[0m\u001b[0;34m\u001b[0m\u001b[0m\n\u001b[1;32m     19\u001b[0m \u001b[0;34m\u001b[0m\u001b[0m\n\u001b[0;32m---> 20\u001b[0;31m \u001b[0;32mimport\u001b[0m \u001b[0mskift\u001b[0m\u001b[0;34m\u001b[0m\u001b[0m\n\u001b[0m\u001b[1;32m     21\u001b[0m \u001b[0;34m\u001b[0m\u001b[0m\n\u001b[1;32m     22\u001b[0m \u001b[0mskift_clf\u001b[0m \u001b[0;34m=\u001b[0m \u001b[0mskift\u001b[0m\u001b[0;34m.\u001b[0m\u001b[0mFirstObjFtClassifier\u001b[0m\u001b[0;34m(\u001b[0m\u001b[0mlr\u001b[0m\u001b[0;34m=\u001b[0m\u001b[0;36m0.2\u001b[0m\u001b[0;34m)\u001b[0m\u001b[0;34m\u001b[0m\u001b[0m\n",
      "\u001b[0;31mImportError\u001b[0m: No module named skift"
     ]
    }
   ],
   "source": [
    "# data preperation\n",
    "df_train=df_train[[\"id\",\"comment_text\",\"toxic\"]]\n",
    "df_train[\"label\"]=\"__label__not_toxic\"\n",
    "df_train.loc[df_train[\"toxic\"]==1,\"label\"]=\"__label__toxic\"\n",
    "df_train[\"comment_text\"]=df_train[\"comment_text\"].apply(str.replace,args=(\"\\n\",\" \"))\n",
    "df_train[\"comment_text\"]=df_train[\"comment_text\"].apply(str.replace,args=(\"\\\"\",\"\"))\n",
    "\n",
    "df_test[\"comment_text\"]=df_test[\"comment_text\"].apply(str.replace,args=(\"\\n\",\" \"))\n",
    "df_test[\"comment_text\"]=df_test[\"comment_text\"].apply(str.replace,args=(\"\\\"\",\"\"))\n",
    "\n",
    "X_train = pd.DataFrame(df_train.loc[:,\"comment_text\"])\n",
    "y_train = df_train.loc[:,\"toxic\"]\n",
    "X_test = pd.DataFrame(df_test[df_test[\"toxic\"]>-1].loc[:,\"comment_text\"])\n",
    "y_test = df_test[df_test[\"toxic\"]>-1].loc[:,\"toxic\"]\n",
    "\n",
    "#%%\n",
    "\n",
    "# Single skift model\n",
    "\n",
    "import skift\n",
    "\n",
    "skift_clf = skift.FirstObjFtClassifier(lr=0.2)\n",
    "skift_clf.fit(X_train, y_train)\n",
    "\n",
    "print(\"score on test data: %0.4f\" % (skift_clf.score(X_test, y_test)))\n",
    "print(\"score on training data: %0.4f\" % (skift_clf.score(X_train, y_train))) #model overfitting on training data?\n",
    "\n",
    "preds = skift_clf.predict(X_test)\n",
    "preds_proba = skift_clf.predict_proba(X_test)\n",
    "\n",
    "def score_preds(y_true, y_pred):\n",
    "    print(\"confusion matrix:\")\n",
    "    print(str(skm.confusion_matrix(y_true, y_pred)))\n",
    "    print(\"classification report:\")\n",
    "    print(str(skm.classification_report(y_true, y_pred)))\n",
    "    print(\"f1 macro: %0.4f\" % (skm.precision_recall_fscore_support(y_true, y_pred, average='macro')[2]))\n",
    "    print(\"f1 micro: %0.4f\" % (skm.precision_recall_fscore_support(y_true, y_pred, average='micro')[2]))\n",
    "\n",
    "score_preds(y_test, preds)\n",
    "\n",
    "#%%\n",
    "score_preds(y_test, np.zeros(y_test.shape)) #majority class classifier"
   ]
  },
  {
   "cell_type": "code",
   "execution_count": 7,
   "metadata": {},
   "outputs": [],
   "source": [
    "# Preprocessing Data\n",
    "df_train=pd.read_csv(\"hatespeech/out.csv\")\n"
   ]
  },
  {
   "cell_type": "code",
   "execution_count": 8,
   "metadata": {},
   "outputs": [
    {
     "ename": "ImportError",
     "evalue": "No module named skift",
     "output_type": "error",
     "traceback": [
      "\u001b[0;31m---------------------------------------------------------------------------\u001b[0m",
      "\u001b[0;31mImportError\u001b[0m                               Traceback (most recent call last)",
      "\u001b[0;32m<ipython-input-8-a7b9072a8762>\u001b[0m in \u001b[0;36m<module>\u001b[0;34m()\u001b[0m\n\u001b[1;32m     18\u001b[0m \u001b[0;31m# Single skift model\u001b[0m\u001b[0;34m\u001b[0m\u001b[0;34m\u001b[0m\u001b[0m\n\u001b[1;32m     19\u001b[0m \u001b[0;34m\u001b[0m\u001b[0m\n\u001b[0;32m---> 20\u001b[0;31m \u001b[0;32mimport\u001b[0m \u001b[0mskift\u001b[0m\u001b[0;34m\u001b[0m\u001b[0m\n\u001b[0m\u001b[1;32m     21\u001b[0m \u001b[0;34m\u001b[0m\u001b[0m\n\u001b[1;32m     22\u001b[0m \u001b[0mskift_clf\u001b[0m \u001b[0;34m=\u001b[0m \u001b[0mskift\u001b[0m\u001b[0;34m.\u001b[0m\u001b[0mFirstObjFtClassifier\u001b[0m\u001b[0;34m(\u001b[0m\u001b[0mlr\u001b[0m\u001b[0;34m=\u001b[0m\u001b[0;36m0.2\u001b[0m\u001b[0;34m)\u001b[0m\u001b[0;34m\u001b[0m\u001b[0m\n",
      "\u001b[0;31mImportError\u001b[0m: No module named skift"
     ]
    }
   ],
   "source": [
    "# data preperation\n",
    "df_train=df_train[[\"id\",\"comment_text\",\"toxic\"]]\n",
    "df_train[\"label\"]=\"__label__not_toxic\"\n",
    "df_train.loc[df_train[\"toxic\"]==1,\"label\"]=\"__label__toxic\"\n",
    "df_train[\"comment_text\"]=df_train[\"comment_text\"].apply(str.replace,args=(\"\\n\",\" \"))\n",
    "df_train[\"comment_text\"]=df_train[\"comment_text\"].apply(str.replace,args=(\"\\\"\",\"\"))\n",
    "\n",
    "df_test[\"comment_text\"]=df_test[\"comment_text\"].apply(str.replace,args=(\"\\n\",\" \"))\n",
    "df_test[\"comment_text\"]=df_test[\"comment_text\"].apply(str.replace,args=(\"\\\"\",\"\"))\n",
    "\n",
    "X_train = pd.DataFrame(df_train.loc[:,\"comment_text\"])\n",
    "y_train = df_train.loc[:,\"toxic\"]\n",
    "X_test = pd.DataFrame(df_test[df_test[\"toxic\"]>-1].loc[:,\"comment_text\"])\n",
    "y_test = df_test[df_test[\"toxic\"]>-1].loc[:,\"toxic\"]\n",
    "\n",
    "#%%\n",
    "\n",
    "# Single skift model\n",
    "\n",
    "import skift\n",
    "\n",
    "skift_clf = skift.FirstObjFtClassifier(lr=0.2)\n",
    "skift_clf.fit(X_train, y_train)\n",
    "\n",
    "print(\"score on test data: %0.4f\" % (skift_clf.score(X_test, y_test)))\n",
    "print(\"score on training data: %0.4f\" % (skift_clf.score(X_train, y_train))) #model overfitting on training data?\n",
    "\n",
    "preds = skift_clf.predict(X_test)\n",
    "preds_proba = skift_clf.predict_proba(X_test)\n",
    "\n",
    "def score_preds(y_true, y_pred):\n",
    "    print(\"confusion matrix:\")\n",
    "    print(str(skm.confusion_matrix(y_true, y_pred)))\n",
    "    print(\"classification report:\")\n",
    "    print(str(skm.classification_report(y_true, y_pred)))\n",
    "    print(\"f1 macro: %0.4f\" % (skm.precision_recall_fscore_support(y_true, y_pred, average='macro')[2]))\n",
    "    print(\"f1 micro: %0.4f\" % (skm.precision_recall_fscore_support(y_true, y_pred, average='micro')[2]))\n",
    "\n",
    "score_preds(y_test, preds)\n",
    "\n",
    "#%%\n",
    "score_preds(y_test, np.zeros(y_test.shape)) #majority class classifier"
   ]
  },
  {
   "cell_type": "code",
   "execution_count": null,
   "metadata": {
    "collapsed": true
   },
   "outputs": [],
   "source": []
  }
 ],
 "metadata": {
  "kernelspec": {
   "display_name": "Python 2",
   "language": "python",
   "name": "python2"
  },
  "language_info": {
   "codemirror_mode": {
    "name": "ipython",
    "version": 2
   },
   "file_extension": ".py",
   "mimetype": "text/x-python",
   "name": "python",
   "nbconvert_exporter": "python",
   "pygments_lexer": "ipython2",
   "version": "2.7.13"
  }
 },
 "nbformat": 4,
 "nbformat_minor": 2
}
